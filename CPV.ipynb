{
 "cells": [
  {
   "cell_type": "markdown",
   "id": "6413f559-29d0-4d61-9123-d49c20751ab9",
   "metadata": {},
   "source": [
    "## Censo de Población y Viviendas\n",
    "Descargar CPV 2020 Aguascalientes\n",
    "https://www.inegi.org.mx/programas/ccpv/2020/#datos_abiertos"
   ]
  },
  {
   "cell_type": "code",
   "execution_count": null,
   "id": "3d83e167-60ca-4730-a497-27aaad63f310",
   "metadata": {},
   "outputs": [],
   "source": [
    "import json\n",
    "import requests\n",
    "import os\n",
    "import zipfile\n",
    "import geopandas as gpd \n",
    "import pandas as pd\n",
    "import io\n",
    "import contextily as cx"
   ]
  },
  {
   "cell_type": "code",
   "execution_count": null,
   "id": "3485c471-e873-422a-8e9f-a7b620ec43d4",
   "metadata": {},
   "outputs": [],
   "source": [
    "url= \"https://www.inegi.org.mx/contenidos/programas/ccpv/2020/datosabiertos/ageb_manzana/ageb_mza_urbana_19_cpv2020_csv.zip\""
   ]
  },
  {
   "cell_type": "code",
   "execution_count": null,
   "id": "bd2e0f23-a65f-4c53-9607-cd72c7758fb3",
   "metadata": {},
   "outputs": [],
   "source": [
    "response = requests.get(url)\n",
    "if response.status_code == 200:\n",
    "    # Crear un archivo ZIP en memoria\n",
    "    with zipfile.ZipFile(io.BytesIO(response.content)) as z:\n",
    "        # Extraer los archivos del ZIP\n",
    "        z.extractall('CPV_2020')\n",
    "else:\n",
    "    print('Error al descargar el archivo ZIP')"
   ]
  },
  {
   "cell_type": "code",
   "execution_count": null,
   "id": "3cd6ea69-7d6f-42bb-8b84-a042c783e2e7",
   "metadata": {},
   "outputs": [],
   "source": [
    "df = pd.read_csv('CPV_2020/ageb_mza_urbana_19_cpv2020/conjunto_de_datos/conjunto_de_datos_ageb_urbana_19_cpv2020.csv')\n",
    "df.head()"
   ]
  },
  {
   "cell_type": "code",
   "execution_count": null,
   "id": "9c69a548-1956-4d48-95fb-06d2270a40cf",
   "metadata": {},
   "outputs": [],
   "source": [
    "urlMza = \"https://www.inegi.org.mx/contenidos/productos/prod_serv/contenidos/espanol/bvinegi/productos/geografia/marcogeo/889463807469/889463807469_s.zip\"\n",
    "response = requests.get(urlMza)\n",
    "if response.status_code == 200:\n",
    "    # Crear un archivo ZIP en memoria\n",
    "    with zipfile.ZipFile(io.BytesIO(response.content)) as z:\n",
    "        # Extraer los archivos del ZIP\n",
    "        z.extractall('Manzanas_2020')\n",
    "else:\n",
    "    print('Error al descargar el archivo')"
   ]
  },
  {
   "cell_type": "code",
   "execution_count": null,
   "id": "f633f11b-fba5-4bbf-8ff3-07c4d29f4e38",
   "metadata": {},
   "outputs": [],
   "source": [
    "gdf= gpd.read_file(\"Manzanas_2020/19_aguascalientes.zip!/conjunto_de_datos/31m.shp\").to_crs(4326)\n",
    "gdf.head()"
   ]
  },
  {
   "cell_type": "code",
   "execution_count": null,
   "id": "e6e6ff79-c2ae-4fb6-9d66-7264277c41f3",
   "metadata": {},
   "outputs": [],
   "source": [
    "df['CVEGEO'] = df['ENTIDAD'].map(str).str.zfill(2) + df['MUN'].map(str).str.zfill(3) + df['LOC'].map(str).str.zfill(4) + df['AGEB'].map(str).str.zfill(4) + df['MZA'].map(str).str.zfill(3)"
   ]
  },
  {
   "cell_type": "code",
   "execution_count": null,
   "id": "e1fac31b-da61-4d71-b4ee-2c07fd49d250",
   "metadata": {},
   "outputs": [],
   "source": [
    "gdf_merged = gpd.GeoDataFrame(pd.merge(gdf, df, on='CVEGEO'))"
   ]
  },
  {
   "cell_type": "code",
   "execution_count": null,
   "id": "d93f7347-3c63-4da1-937a-b83476ff805a",
   "metadata": {},
   "outputs": [],
   "source": [
    "gdf_filtrado = gdf_merged.query(\"NOM_LOC == 'Aguascalientes'\")"
   ]
  },
  {
   "cell_type": "code",
   "execution_count": null,
   "id": "4db5e5ca-e8f2-4e8b-88f9-8a7777603819",
   "metadata": {},
   "outputs": [],
   "source": [
    "gdf_filtrado = gdf_filtrado[gdf_filtrado['PCDISC_MOT'] != '*']\n",
    "gdf_filtrado['PCDISC_MOT'] = gdf_filtrado['PCDISC_MOT'].astype(int)"
   ]
  },
  {
   "cell_type": "code",
   "execution_count": null,
   "id": "b74fc79a-9575-49ca-9c40-d3387996756e",
   "metadata": {},
   "outputs": [],
   "source": [
    "ax = gdf_filtrado.plot(\"PCDISC_MOT\", cmap=\"tab10\", legend=True, figsize=(14, 8))\n",
    "cx.add_basemap(ax, crs=gdf_filtrado.crs.to_string())"
   ]
  },
  {
   "cell_type": "code",
   "execution_count": null,
   "id": "0882faff",
   "metadata": {},
   "outputs": [],
   "source": []
  },
  {
   "cell_type": "code",
   "execution_count": null,
   "id": "8df51f6e",
   "metadata": {},
   "outputs": [],
   "source": []
  },
  {
   "cell_type": "code",
   "execution_count": null,
   "id": "422b3bd7",
   "metadata": {},
   "outputs": [],
   "source": []
  }
 ],
 "metadata": {
  "kernelspec": {
   "display_name": "Python 3 (ipykernel)",
   "language": "python",
   "name": "python3"
  },
  "language_info": {
   "codemirror_mode": {
    "name": "ipython",
    "version": 3
   },
   "file_extension": ".py",
   "mimetype": "text/x-python",
   "name": "python",
   "nbconvert_exporter": "python",
   "pygments_lexer": "ipython3",
   "version": "3.9.12"
  }
 },
 "nbformat": 4,
 "nbformat_minor": 5
}
